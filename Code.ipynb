{
 "cells": [
  {
   "cell_type": "markdown",
   "metadata": {},
   "source": [
    "# PROJET 6 - DÉTECTER LES FAUX BILLETS"
   ]
  },
  {
   "cell_type": "markdown",
   "metadata": {},
   "source": [
    "Votre société de consulting informatique vous propose une nouvelle mission au ministère de l'Intérieur, dans le cadre de la lutte contre la criminalité organisée, à l'Office central pour la répression du faux monnayage. Votre mission si vous l'acceptez : **créer un algorithme de détection de faux billets**.  \n",
    "Vous vous voyez déjà en grand justicier combattant sans relâche la criminalité organisée en pianotant à mains de maître votre ordinateur, pour façonner ce fabuleux algorithme  qui traquera la moindre fraude et permettra de mettre à jour les réseaux secrets de faux-monnayeurs ! La classe, non ?  \n",
    "Bon, si on retombait les pieds sur terre ? Travailler pour la police judiciaire, c'est bien, mais vous allez devoir faire appel à vos connaissances en statistiques, alors on y va !"
   ]
  },
  {
   "cell_type": "code",
   "execution_count": 1,
   "metadata": {},
   "outputs": [],
   "source": [
    "import matplotlib.pyplot as plt\n",
    "from matplotlib.collections import LineCollection\n",
    "import matplotlib.mlab as mlab\n",
    "import seaborn as sns\n",
    "import numpy as np\n",
    "import pandas as pd\n",
    "\n",
    "from scipy.cluster.hierarchy import dendrogram, linkage, fcluster\n",
    "from sklearn import decomposition, preprocessing\n",
    "from sklearn.metrics import accuracy_score"
   ]
  },
  {
   "cell_type": "markdown",
   "metadata": {},
   "source": [
    "## I. Chargement des données"
   ]
  },
  {
   "cell_type": "code",
   "execution_count": 2,
   "metadata": {},
   "outputs": [
    {
     "data": {
      "text/html": [
       "<div>\n",
       "<style scoped>\n",
       "    .dataframe tbody tr th:only-of-type {\n",
       "        vertical-align: middle;\n",
       "    }\n",
       "\n",
       "    .dataframe tbody tr th {\n",
       "        vertical-align: top;\n",
       "    }\n",
       "\n",
       "    .dataframe thead th {\n",
       "        text-align: right;\n",
       "    }\n",
       "</style>\n",
       "<table border=\"1\" class=\"dataframe\">\n",
       "  <thead>\n",
       "    <tr style=\"text-align: right;\">\n",
       "      <th></th>\n",
       "      <th>is_genuine</th>\n",
       "      <th>diagonal</th>\n",
       "      <th>height_left</th>\n",
       "      <th>height_right</th>\n",
       "      <th>margin_low</th>\n",
       "      <th>margin_up</th>\n",
       "      <th>length</th>\n",
       "    </tr>\n",
       "  </thead>\n",
       "  <tbody>\n",
       "    <tr>\n",
       "      <th>0</th>\n",
       "      <td>True</td>\n",
       "      <td>171.81</td>\n",
       "      <td>104.86</td>\n",
       "      <td>104.95</td>\n",
       "      <td>4.52</td>\n",
       "      <td>2.89</td>\n",
       "      <td>112.83</td>\n",
       "    </tr>\n",
       "    <tr>\n",
       "      <th>1</th>\n",
       "      <td>True</td>\n",
       "      <td>171.67</td>\n",
       "      <td>103.74</td>\n",
       "      <td>103.70</td>\n",
       "      <td>4.01</td>\n",
       "      <td>2.87</td>\n",
       "      <td>113.29</td>\n",
       "    </tr>\n",
       "    <tr>\n",
       "      <th>2</th>\n",
       "      <td>True</td>\n",
       "      <td>171.83</td>\n",
       "      <td>103.76</td>\n",
       "      <td>103.76</td>\n",
       "      <td>4.40</td>\n",
       "      <td>2.88</td>\n",
       "      <td>113.84</td>\n",
       "    </tr>\n",
       "    <tr>\n",
       "      <th>3</th>\n",
       "      <td>True</td>\n",
       "      <td>171.80</td>\n",
       "      <td>103.78</td>\n",
       "      <td>103.65</td>\n",
       "      <td>3.73</td>\n",
       "      <td>3.12</td>\n",
       "      <td>113.63</td>\n",
       "    </tr>\n",
       "    <tr>\n",
       "      <th>4</th>\n",
       "      <td>True</td>\n",
       "      <td>172.05</td>\n",
       "      <td>103.70</td>\n",
       "      <td>103.75</td>\n",
       "      <td>5.04</td>\n",
       "      <td>2.27</td>\n",
       "      <td>113.55</td>\n",
       "    </tr>\n",
       "  </tbody>\n",
       "</table>\n",
       "</div>"
      ],
      "text/plain": [
       "   is_genuine  diagonal  height_left  height_right  margin_low  margin_up  \\\n",
       "0        True    171.81       104.86        104.95        4.52       2.89   \n",
       "1        True    171.67       103.74        103.70        4.01       2.87   \n",
       "2        True    171.83       103.76        103.76        4.40       2.88   \n",
       "3        True    171.80       103.78        103.65        3.73       3.12   \n",
       "4        True    172.05       103.70        103.75        5.04       2.27   \n",
       "\n",
       "   length  \n",
       "0  112.83  \n",
       "1  113.29  \n",
       "2  113.84  \n",
       "3  113.63  \n",
       "4  113.55  "
      ]
     },
     "execution_count": 2,
     "metadata": {},
     "output_type": "execute_result"
    }
   ],
   "source": [
    "data = pd.read_csv('/Users/anissa/P6/notes.csv')\n",
    "data.head()"
   ]
  },
  {
   "cell_type": "markdown",
   "metadata": {},
   "source": [
    "La _longueur du billet_ (en mm) : **length**  \n",
    "La _hauteur du billet_ (mesurée sur le côté gauche, en mm) : **height_left**  \n",
    "La _hauteur du billet_ (mesurée sur le côté droit, en mm) : **height_right**  \n",
    "La _marge entre le bord supérieur_ du billet et l'image de celui-ci (en mm) : **margin_up**  \n",
    "La _marge entre le bord inférieur_ du billet et l'image de celui-ci (en mm) : **margin_low**  \n",
    "La _diagonale du billet_ (en mm) : **diagonal**  "
   ]
  },
  {
   "cell_type": "code",
   "execution_count": 3,
   "metadata": {},
   "outputs": [
    {
     "data": {
      "text/plain": [
       "(170, 7)"
      ]
     },
     "execution_count": 3,
     "metadata": {},
     "output_type": "execute_result"
    }
   ],
   "source": [
    "data.shape"
   ]
  },
  {
   "cell_type": "markdown",
   "metadata": {},
   "source": [
    "Le df est composé de **170 billets** et de **7 variables** : \n",
    "* 6 variables quantititaves : _diagonal, height_left, height_right, margin_low, margin_up et length_\n",
    "* 1 qualitative : *is_genuine*"
   ]
  },
  {
   "cell_type": "code",
   "execution_count": 4,
   "metadata": {},
   "outputs": [
    {
     "name": "stdout",
     "output_type": "stream",
     "text": [
      "Valeurs manquantes :\n",
      "is_genuine      0\n",
      "diagonal        0\n",
      "height_left     0\n",
      "height_right    0\n",
      "margin_low      0\n",
      "margin_up       0\n",
      "length          0\n",
      "dtype: int64\n"
     ]
    }
   ],
   "source": [
    "# Recherche des valeurs manquantes\n",
    "print('Valeurs manquantes :\\n' + str(data.isnull().sum()))"
   ]
  },
  {
   "cell_type": "code",
   "execution_count": 5,
   "metadata": {},
   "outputs": [
    {
     "name": "stdout",
     "output_type": "stream",
     "text": [
      "Valeurs dupliquées :  0\n"
     ]
    }
   ],
   "source": [
    "# Recherche des valeurs dupliquées\n",
    "print('Valeurs dupliquées : ', data.duplicated().sum())"
   ]
  },
  {
   "cell_type": "markdown",
   "metadata": {},
   "source": [
    "## II. Analyses univariées et bivariées"
   ]
  },
  {
   "cell_type": "code",
   "execution_count": 6,
   "metadata": {},
   "outputs": [
    {
     "name": "stdout",
     "output_type": "stream",
     "text": [
      "is_genuine               False        True\n",
      "diagonal     count   70.000000  100.000000\n",
      "             mean   171.889857  171.976100\n",
      "             std      0.297426    0.307981\n",
      "             min    171.380000  171.040000\n",
      "             25%    171.682500  171.790000\n",
      "             50%    171.875000  172.005000\n",
      "             75%    172.047500  172.162500\n",
      "             max    173.010000  172.750000\n",
      "height_left  count   70.000000  100.000000\n",
      "             mean   104.230429  103.951500\n",
      "             std      0.213130    0.296251\n",
      "             min    103.780000  103.230000\n",
      "             25%    104.082500  103.740000\n",
      "             50%    104.215000  103.915000\n",
      "             75%    104.377500  104.145000\n",
      "             max    104.720000  104.860000\n",
      "height_right count   70.000000  100.000000\n",
      "             mean   104.145571  103.775900\n",
      "             std      0.253152    0.292406\n",
      "             min    103.440000  103.140000\n",
      "             25%    103.982500  103.557500\n",
      "             50%    104.170000  103.760000\n",
      "             75%    104.280000  103.972500\n",
      "             max    104.860000  104.950000\n",
      "margin_low   count   70.000000  100.000000\n",
      "             mean     5.281571    4.143500\n",
      "             std      0.540846    0.314509\n",
      "             min      3.820000    3.540000\n",
      "             25%      4.952500    3.900000\n",
      "             50%      5.265000    4.080000\n",
      "             75%      5.702500    4.382500\n",
      "             max      6.280000    5.040000\n",
      "margin_up    count   70.000000  100.000000\n",
      "             mean     3.334571    3.055500\n",
      "             std      0.185102    0.197726\n",
      "             min      2.980000    2.270000\n",
      "             25%      3.185000    2.937500\n",
      "             50%      3.335000    3.070000\n",
      "             75%      3.450000    3.192500\n",
      "             max      3.680000    3.530000\n",
      "length       count   70.000000  100.000000\n",
      "             mean   111.660714  113.207200\n",
      "             std      0.676931    0.380476\n",
      "             min    109.970000  111.760000\n",
      "             25%    111.270000  112.995000\n",
      "             50%    111.765000  113.210000\n",
      "             75%    111.985000  113.505000\n",
      "             max    113.640000  113.980000\n"
     ]
    }
   ],
   "source": [
    "description = data.groupby('is_genuine').describe().T\n",
    "print(description)"
   ]
  },
  {
   "cell_type": "markdown",
   "metadata": {},
   "source": [
    "Notre échantillon contient 170 billets : 100 vrais billets et 70 faux."
   ]
  },
  {
   "cell_type": "code",
   "execution_count": 7,
   "metadata": {},
   "outputs": [
    {
     "data": {
      "text/plain": [
       "<AxesSubplot:>"
      ]
     },
     "execution_count": 7,
     "metadata": {},
     "output_type": "execute_result"
    },
    {
     "data": {
      "image/png": "[encoded data removed]",
      "text/plain": [
       "<Figure size 1800x1080 with 2 Axes>"
      ]
     },
     "metadata": {},
     "output_type": "display_data"
    }
   ],
   "source": [
    "sns.set_theme(style=\"white\")\n",
    "# Generate a large random dataset\n",
    "d = data\n",
    "\n",
    "# Compute the correlation matrix\n",
    "corr = d.corr()\n",
    "\n",
    "# Generate a mask for the upper triangle\n",
    "mask = np.triu(np.ones_like(corr, dtype=bool))\n",
    "\n",
    "# Set up the matplotlib figure\n",
    "f, ax = plt.subplots(figsize=(25, 15))\n",
    "\n",
    "# Generate a custom diverging colormap\n",
    "cmap = sns.diverging_palette(230, 20, as_cmap=True)\n",
    "\n",
    "# Draw the heatmap with the mask and correct aspect ratio\n",
    "sns.heatmap(corr, mask=mask, cmap=cmap, vmax=.3, center=0,\n",
    "            square=True, linewidths=.5, cbar_kws={\"shrink\": .5}, annot=True)"
   ]
  },
  {
   "cell_type": "markdown",
   "metadata": {},
   "source": [
    "Les variables \"length\" et \"margin_low\" sont les variables **les plus corrélées à la variable \"is_genuine\"**. Ce qui signifie que ce sont ces 2 variables qui sont les plus **importantes** lors de la détection de faux billets.  \n",
    "On constate une **très faible corrélation** entre \"margin_up\" et \"diagonal\".  \n",
    "Une **forte corrélation positive** est constatée entre \"height_right\" et \"height_left\" : les deux variables varient dans le même sens.   \n",
    "Une **corrélation négative** existe entre \"margin_low\" et \"length\" : lorsqu'une des variables augmente, l'autre diminue."
   ]
  },
  {
   "cell_type": "markdown",
   "metadata": {},
   "source": [
    "On constate bien une différence significative entre les données des vrais et des faux billets.  \n",
    "La variable \"length\" montre que la taille des faux billets est inférieure à celle des vrais."
   ]
  },
  {
   "cell_type": "code",
   "execution_count": 8,
   "metadata": {},
   "outputs": [
    {
     "data": {
      "image/png": "[encoded data removed]",
      "text/plain": [
       "<Figure size 432x288 with 1 Axes>"
      ]
     },
     "metadata": {},
     "output_type": "display_data"
    },
    {
     "data": {
      "image/png": "[encoded data removed]",
      "text/plain": [
       "<Figure size 432x288 with 1 Axes>"
      ]
     },
     "metadata": {},
     "output_type": "display_data"
    },
    {
     "data": {
      "image/png": "[encoded data removed]",
      "text/plain": [
       "<Figure size 432x288 with 1 Axes>"
      ]
     },
     "metadata": {},
     "output_type": "display_data"
    },
    {
     "data": {
      "image/png": "[encoded data removed]",
      "text/plain": [
       "<Figure size 432x288 with 1 Axes>"
      ]
     },
     "metadata": {},
     "output_type": "display_data"
    },
    {
     "data": {
      "image/png": "[encoded data removed]",
      "text/plain": [
       "<Figure size 432x288 with 1 Axes>"
      ]
     },
     "metadata": {},
     "output_type": "display_data"
    },
    {
     "data": {
      "image/png": "[encoded data removed]",
      "text/plain": [
       "<Figure size 432x288 with 1 Axes>"
      ]
     },
     "metadata": {},
     "output_type": "display_data"
    }
   ],
   "source": [
    "# Comparaison entre les vrais et faux billets (violinplot)\n",
    "sns.set_palette('Spectral')\n",
    "medianprops = dict(linewidth=2, color='grey')\n",
    "meanprops={\"marker\":\"o\",\n",
    "                       \"markerfacecolor\":\"yellow\", \n",
    "                       \"markeredgecolor\":\"yellow\",\n",
    "                      \"markersize\":\"5\"}\n",
    "\n",
    "for variable in data.columns[1:7]:\n",
    "    sns_plot=sns.violinplot(\n",
    "        x = data[variable], \n",
    "        y = data.is_genuine,\n",
    "        orient = \"h\",\n",
    "        medianprops = medianprops, showmeans=True, meanprops=meanprops,\n",
    "        width = .5)\n",
    "    plt.show()"
   ]
  },
  {
   "cell_type": "code",
   "execution_count": 9,
   "metadata": {},
   "outputs": [
    {
     "data": {
      "image/png": "[encoded data removed]",
      "text/plain": [
       "<Figure size 432x288 with 1 Axes>"
      ]
     },
     "metadata": {},
     "output_type": "display_data"
    },
    {
     "data": {
      "image/png": "[encoded data removed]",
      "text/plain": [
       "<Figure size 432x288 with 1 Axes>"
      ]
     },
     "metadata": {},
     "output_type": "display_data"
    },
    {
     "data": {
      "image/png": "[encoded data removed]",
      "text/plain": [
       "<Figure size 432x288 with 1 Axes>"
      ]
     },
     "metadata": {},
     "output_type": "display_data"
    },
    {
     "data": {
      "image/png": "[encoded data removed]",
      "text/plain": [
       "<Figure size 432x288 with 1 Axes>"
      ]
     },
     "metadata": {},
     "output_type": "display_data"
    },
    {
     "data": {
      "image/png": "[encoded data removed]",
      "text/plain": [
       "<Figure size 432x288 with 1 Axes>"
      ]
     },
     "metadata": {},
     "output_type": "display_data"
    },
    {
     "data": {
      "image/png": "[encoded data removed]",
      "text/plain": [
       "<Figure size 432x288 with 1 Axes>"
      ]
     },
     "metadata": {},
     "output_type": "display_data"
    }
   ],
   "source": [
    "# Comparaison entre les dimensions des vrais et faux billets (boxplot)\n",
    "medianprops = dict(linewidth=2, color='grey')\n",
    "meanprops={\"marker\":\"o\",\n",
    "                       \"markerfacecolor\":\"yellow\", \n",
    "                       \"markeredgecolor\":\"yellow\",\n",
    "                      \"markersize\":\"5\"}\n",
    "\n",
    "for variable in data.columns[1:7]:\n",
    "    sns_plot=sns.boxplot(\n",
    "        x = data[variable], \n",
    "        y = data.is_genuine,\n",
    "        orient = \"h\",\n",
    "        medianprops = medianprops, showmeans=True, meanprops=meanprops,\n",
    "        width = .5)\n",
    "    plt.show()"
   ]
  },
  {
   "cell_type": "markdown",
   "metadata": {},
   "source": [
    "On constate ici, comme pour la matrice de corrélation, que les valeurs les plus discriminantes sont **\"length\"** et **\"margin_low\"** : différences importantes entre les dimensions et données plus hétérogènes."
   ]
  },
  {
   "cell_type": "markdown",
   "metadata": {},
   "source": [
    "## III. Analyse en Composantes Principales"
   ]
  },
  {
   "cell_type": "markdown",
   "metadata": {},
   "source": [
    "_Source :_ http://eric.univ-lyon2.fr/~ricco/tanagra/fichiers/fr_Tanagra_ACP_Python.pdf"
   ]
  },
  {
   "cell_type": "code",
   "execution_count": 10,
   "metadata": {},
   "outputs": [],
   "source": [
    "# Paramétrage de l'environnement\n",
    "\n",
    "def display_circles(pcs, n_comp, pca, axis_ranks, labels=None, label_rotation=0, lims=None):\n",
    "    for d1, d2 in axis_ranks: # On affiche les 3 premiers plans factoriels, donc les 6 premières composantes\n",
    "        if d2 < n_comp:\n",
    "\n",
    "            # initialisation de la figure\n",
    "            fig, ax = plt.subplots(figsize=(10,10))\n",
    "\n",
    "            # détermination des limites du graphique\n",
    "            if lims is not None :\n",
    "                xmin, xmax, ymin, ymax = lims\n",
    "            elif pcs.shape[1] < 30 :\n",
    "                xmin, xmax, ymin, ymax = -1, 1, -1, 1\n",
    "            else :\n",
    "                xmin, xmax, ymin, ymax = min(pcs[d1,:]), max(pcs[d1,:]), min(pcs[d2,:]), max(pcs[d2,:])\n",
    "\n",
    "            # affichage des flèches\n",
    "            # s'il y a plus de 30 flèches, on n'affiche pas le triangle à leur extrémité\n",
    "            if pcs.shape[1] < 30 :\n",
    "                plt.quiver(np.zeros(pcs.shape[1]), np.zeros(pcs.shape[1]),\n",
    "                   pcs[d1,:], pcs[d2,:], \n",
    "                   angles='xy', scale_units='xy', scale=1, color=\"grey\")\n",
    "                # (voir la doc : https://matplotlib.org/api/_as_gen/matplotlib.pyplot.quiver.html)\n",
    "            else:\n",
    "                lines = [[[0,0],[x,y]] for x,y in pcs[[d1,d2]].T]\n",
    "                ax.add_collection(LineCollection(lines, axes=ax, alpha=.1, color='black'))\n",
    "            \n",
    "            # affichage des noms des variables  \n",
    "            if labels is not None:  \n",
    "                for i,(x, y) in enumerate(pcs[[d1,d2]].T):\n",
    "                    if x >= xmin and x <= xmax and y >= ymin and y <= ymax :\n",
    "                      plt.text(x, y, labels[i], fontsize='14', ha='center', va='center', rotation=label_rotation, color=\"blue\", alpha=0.5)\n",
    "            \n",
    "            # affichage du cercle\n",
    "            an = np.linspace(0, 2 * np.pi, 100)  # Add a unit circle for scale\n",
    "            plt.plot(np.cos(an), np.sin(an))\n",
    "            plt.axis('equal')\n",
    "\n",
    "            # définition des limites du graphique\n",
    "            plt.xlim(xmin, xmax)\n",
    "            plt.ylim(ymin, ymax)\n",
    "        \n",
    "            # affichage des lignes horizontales et verticales\n",
    "            plt.plot([-1, 1], [0, 0], color='grey', ls='--')\n",
    "            plt.plot([0, 0], [-1, 1], color='grey', ls='--')\n",
    "\n",
    "            # nom des axes, avec le pourcentage d'inertie expliqué\n",
    "            plt.xlabel('F{} ({}%)'.format(d1+1, round(100*pca.explained_variance_ratio_[d1],1)))\n",
    "            plt.ylabel('F{} ({}%)'.format(d2+1, round(100*pca.explained_variance_ratio_[d2],1)))\n",
    "\n",
    "            plt.title(\"Cercle des corrélations (F{} et F{})\".format(d1+1, d2+1))\n",
    "            plt.show(block=False)\n",
    "        \n",
    "def display_factorial_planes(X_projected, n_comp, pca, axis_ranks, labels=None, alpha=1, illustrative_var=None):\n",
    "    for d1,d2 in axis_ranks:\n",
    "        if d2 < n_comp:\n",
    " \n",
    "            # initialisation de la figure       \n",
    "            fig = plt.figure(figsize=(10,10))\n",
    "        \n",
    "            # affichage des points\n",
    "            if illustrative_var is None:\n",
    "                plt.scatter(X_projected[:, d1], X_projected[:, d2], alpha=alpha)\n",
    "            else:\n",
    "                illustrative_var = np.array(illustrative_var)\n",
    "                for value in np.unique(illustrative_var):\n",
    "                    selected = np.where(illustrative_var == value)\n",
    "                    plt.scatter(X_projected[selected, d1], X_projected[selected, d2], alpha=alpha, label=value)\n",
    "                plt.legend()\n",
    "\n",
    "            # affichage des labels des points\n",
    "            if labels is not None:\n",
    "                for i,(x,y) in enumerate(X_projected[:,[d1,d2]]):\n",
    "                    plt.text(x, y, labels[i],\n",
    "                              fontsize='14', ha='center',va='center') \n",
    "                \n",
    "            # détermination des limites du graphique\n",
    "            boundary = np.max(np.abs(X_projected[:, [d1,d2]])) * 1.1\n",
    "            plt.xlim([-boundary,boundary])\n",
    "            plt.ylim([-boundary,boundary])\n",
    "        \n",
    "            # affichage des lignes horizontales et verticales\n",
    "            plt.plot([-100, 100], [0, 0], color='grey', ls='--')\n",
    "            plt.plot([0, 0], [-100, 100], color='grey', ls='--')\n",
    "\n",
    "            # nom des axes, avec le pourcentage d'inertie expliqué\n",
    "            plt.xlabel('F{} ({}%)'.format(d1+1, round(100*pca.explained_variance_ratio_[d1],1)))\n",
    "            plt.ylabel('F{} ({}%)'.format(d2+1, round(100*pca.explained_variance_ratio_[d2],1)))\n",
    "\n",
    "            plt.title(\"Projection des individus (sur F{} et F{})\".format(d1+1, d2+1))\n",
    "            plt.show(block=False)"
   ]
  },
  {
   "cell_type": "code",
   "execution_count": 11,
   "metadata": {},
   "outputs": [
    {
     "name": "stdout",
     "output_type": "stream",
     "text": [
      "(170, 6)\n"
     ]
    }
   ],
   "source": [
    "data_acp = data.drop(columns='is_genuine') # on supprime la variable qualitative pour l'ACP\n",
    "\n",
    "print(data_acp.shape) # dimension de la matrice\n",
    "n = data_acp.shape[0] # nombre d'observations\n",
    "p = data_acp.shape[1] # nombre de variables"
   ]
  },
  {
   "cell_type": "code",
   "execution_count": 12,
   "metadata": {},
   "outputs": [
    {
     "name": "stdout",
     "output_type": "stream",
     "text": [
      "[[-0.42834385  2.6694537   3.09656321 -0.13159013 -1.18987367  0.28163308]\n",
      " [-0.88755932 -1.09769709 -0.69125444 -0.86012554 -1.27473985  0.78069736]\n",
      " [-0.36274164 -1.03042654 -0.50943919 -0.30301023 -1.23230676  1.37740465]\n",
      " ...\n",
      " [ 1.73652911  0.68497248  0.52084721  0.38267015  0.67718214 -2.05094997]\n",
      " [-0.39554274 -0.32408577 -0.1458087   0.16839504  1.61071005 -0.75989238]\n",
      " [ 0.06367273 -0.22317994  0.06630909  1.45404575  0.38015054 -1.74717171]]\n"
     ]
    }
   ],
   "source": [
    "from sklearn.preprocessing import StandardScaler\n",
    "\n",
    "sc = StandardScaler()\n",
    "Z = sc.fit_transform(data_acp)\n",
    "\n",
    "print(Z)"
   ]
  },
  {
   "cell_type": "code",
   "execution_count": 13,
   "metadata": {},
   "outputs": [
    {
     "name": "stdout",
     "output_type": "stream",
     "text": [
      "PCA()\n"
     ]
    }
   ],
   "source": [
    "from sklearn.decomposition import PCA\n",
    "\n",
    "acp = PCA() # instanciation\n",
    "print(acp)"
   ]
  },
  {
   "cell_type": "code",
   "execution_count": 14,
   "metadata": {},
   "outputs": [
    {
     "name": "stdout",
     "output_type": "stream",
     "text": [
      "6\n"
     ]
    }
   ],
   "source": [
    "coord = acp.fit_transform(Z)\n",
    "print(acp.n_components_) # nombre de composantes calculées"
   ]
  },
  {
   "cell_type": "code",
   "execution_count": 15,
   "metadata": {},
   "outputs": [
    {
     "name": "stdout",
     "output_type": "stream",
     "text": [
      "[2.86372065 1.32522178 0.85912514 0.51460481 0.27840703 0.19442354]\n"
     ]
    }
   ],
   "source": [
    "# Variance expliquée\n",
    "print(acp.explained_variance_)"
   ]
  },
  {
   "cell_type": "code",
   "execution_count": 16,
   "metadata": {},
   "outputs": [
    {
     "name": "stdout",
     "output_type": "stream",
     "text": [
      "[2.84687523 1.31742636 0.85407146 0.51157773 0.27676935 0.19327987]\n"
     ]
    }
   ],
   "source": [
    "# Valeur corrigée\n",
    "eigval = (n-1)/n*acp.explained_variance_\n",
    "print(eigval)"
   ]
  },
  {
   "cell_type": "code",
   "execution_count": 17,
   "metadata": {},
   "outputs": [
    {
     "name": "stdout",
     "output_type": "stream",
     "text": [
      "[0.47447921 0.21957106 0.14234524 0.08526295 0.04612822 0.03221331]\n"
     ]
    }
   ],
   "source": [
    "# Proportion de valeurs expliquées\n",
    "ratio = acp.explained_variance_ratio_ * 100\n",
    "print(acp.explained_variance_ratio_)"
   ]
  },
  {
   "cell_type": "code",
   "execution_count": 18,
   "metadata": {},
   "outputs": [
    {
     "data": {
      "image/png": "[encoded data removed]",
      "text/plain": [
       "<Figure size 720x720 with 1 Axes>"
      ]
     },
     "metadata": {},
     "output_type": "display_data"
    }
   ],
   "source": [
    "# Eboulis des valeurs propres\n",
    "fig, ax = plt.subplots(figsize=(10,10))\n",
    "scree = acp.explained_variance_ratio_*100\n",
    "\n",
    "plt.bar(np.arange(len(scree))+1, scree)\n",
    "plt.plot(np.arange(len(scree))+1, scree.cumsum(),marker='o', color='r')\n",
    "plt.xlabel(\"Rang de l'axe d'inertie\")\n",
    "plt.ylabel(\"Pourcentage d'inertie\")\n",
    "\n",
    "plt.title(\"Eboulis des valeurs propres\")\n",
    "\n",
    "plt.savefig('/Users/anissa/P5_01_eboulis.jpg', dpi=1200)\n",
    "plt.show(block=False)"
   ]
  },
  {
   "cell_type": "markdown",
   "metadata": {},
   "source": [
    "Le critère du Kaiser nous conduit à retenir les deux premiers axes. En effet le premier axe retient 47.4% de l’inertie totale quant à l’axe 2 retient tout de même 22% de l’inertie, ce qui n’est pas négligeable. Et qui conduit à un taux d’inertie expliquée de 69,4%, ce qui est un très bon résultat."
   ]
  },
  {
   "cell_type": "code",
   "execution_count": 19,
   "metadata": {},
   "outputs": [
    {
     "name": "stdout",
     "output_type": "stream",
     "text": [
      "      ID        d_i\n",
      "0      0  18.410598\n",
      "1      1   5.444799\n",
      "2      2   4.960527\n",
      "3      3   4.805719\n",
      "4      4  18.039567\n",
      "..   ...        ...\n",
      "165  165   7.673233\n",
      "166  166  20.625650\n",
      "167  167   8.567410\n",
      "168  168   3.482926\n",
      "169  169   5.369633\n",
      "\n",
      "[170 rows x 2 columns]\n"
     ]
    }
   ],
   "source": [
    "# Contribution des individus dans l'inertie totale\n",
    "di = np.sum(Z**2,axis=1)\n",
    "print(pd.DataFrame({'ID':data_acp.index,'d_i':di}))"
   ]
  },
  {
   "cell_type": "code",
   "execution_count": 20,
   "metadata": {},
   "outputs": [
    {
     "name": "stdout",
     "output_type": "stream",
     "text": [
      "      id   COS2_F1   COS2_F2\n",
      "0      0  0.251929  0.139000\n",
      "1      1  0.818002  0.050822\n",
      "2      2  0.784862  0.000466\n",
      "3      3  0.882856  0.001652\n",
      "4      4  0.320145  0.009417\n",
      "..   ...       ...       ...\n",
      "165  165  0.800651  0.004703\n",
      "166  166  0.324059  0.411824\n",
      "167  167  0.498809  0.083461\n",
      "168  168  0.156908  0.271800\n",
      "169  169  0.421817  0.217111\n",
      "\n",
      "[170 rows x 3 columns]\n"
     ]
    }
   ],
   "source": [
    "# Qualité de représentation des individus - COS2\n",
    "cos2 = coord**2\n",
    "\n",
    "for j in range(p):\n",
    "  cos2[:,j] = cos2[:,j]/di\n",
    "\n",
    "qualite = pd.DataFrame({'id':data_acp.index,'COS2_F1':cos2[:,0],'COS2_F2':cos2[:,1]})\n",
    "\n",
    "print(qualite)"
   ]
  },
  {
   "cell_type": "code",
   "execution_count": 21,
   "metadata": {},
   "outputs": [
    {
     "name": "stdout",
     "output_type": "stream",
     "text": [
      "      id   COS2_F1   COS2_F2\n",
      "143  143  0.973456  0.007584\n",
      "46    46  0.962296  0.003343\n",
      "101  101  0.908310  0.037607\n",
      "94    94  0.906118  0.045729\n",
      "123  123  0.904783  0.047258\n",
      "90    90  0.898122  0.061454\n",
      "111  111  0.896997  0.028916\n",
      "132  132  0.885530  0.012440\n",
      "3      3  0.882856  0.001652\n",
      "105  105  0.882824  0.007530\n"
     ]
    }
   ],
   "source": [
    "print(qualite.sort_values('COS2_F1', ascending=False).head(10))"
   ]
  },
  {
   "cell_type": "code",
   "execution_count": 22,
   "metadata": {},
   "outputs": [
    {
     "name": "stdout",
     "output_type": "stream",
     "text": [
      "      id   COS2_F1   COS2_F2\n",
      "21    21  0.000164  0.935643\n",
      "156  156  0.013014  0.919036\n",
      "33    33  0.017244  0.911419\n",
      "34    34  0.004225  0.890595\n",
      "23    23  0.006820  0.850794\n",
      "36    36  0.110271  0.833974\n",
      "53    53  0.013805  0.775037\n",
      "5      5  0.132447  0.771985\n",
      "26    26  0.089474  0.722621\n",
      "22    22  0.026330  0.692767\n"
     ]
    }
   ],
   "source": [
    "print(qualite.sort_values('COS2_F2', ascending=False).head(10))"
   ]
  },
  {
   "cell_type": "code",
   "execution_count": 23,
   "metadata": {},
   "outputs": [
    {
     "name": "stdout",
     "output_type": "stream",
     "text": [
      "[1. 1. 1. 1. 1. 1. 1. 1. 1. 1. 1. 1. 1. 1. 1. 1. 1. 1. 1. 1. 1. 1. 1. 1.\n",
      " 1. 1. 1. 1. 1. 1. 1. 1. 1. 1. 1. 1. 1. 1. 1. 1. 1. 1. 1. 1. 1. 1. 1. 1.\n",
      " 1. 1. 1. 1. 1. 1. 1. 1. 1. 1. 1. 1. 1. 1. 1. 1. 1. 1. 1. 1. 1. 1. 1. 1.\n",
      " 1. 1. 1. 1. 1. 1. 1. 1. 1. 1. 1. 1. 1. 1. 1. 1. 1. 1. 1. 1. 1. 1. 1. 1.\n",
      " 1. 1. 1. 1. 1. 1. 1. 1. 1. 1. 1. 1. 1. 1. 1. 1. 1. 1. 1. 1. 1. 1. 1. 1.\n",
      " 1. 1. 1. 1. 1. 1. 1. 1. 1. 1. 1. 1. 1. 1. 1. 1. 1. 1. 1. 1. 1. 1. 1. 1.\n",
      " 1. 1. 1. 1. 1. 1. 1. 1. 1. 1. 1. 1. 1. 1. 1. 1. 1. 1. 1. 1. 1. 1. 1. 1.\n",
      " 1. 1.]\n"
     ]
    }
   ],
   "source": [
    "#vérifions la théorie - somme en ligne des cos2 = 1\n",
    "print(np.sum(cos2,axis=1))"
   ]
  },
  {
   "cell_type": "code",
   "execution_count": 24,
   "metadata": {},
   "outputs": [
    {
     "name": "stdout",
     "output_type": "stream",
     "text": [
      "      id    CTR_F1    CTR_F2\n",
      "0      0  0.009584  0.011426\n",
      "1      1  0.009203  0.001236\n",
      "2      2  0.008045  0.000010\n",
      "3      3  0.008767  0.000035\n",
      "4      4  0.011933  0.000759\n",
      "..   ...       ...       ...\n",
      "165  165  0.012694  0.000161\n",
      "166  166  0.013811  0.037927\n",
      "167  167  0.008830  0.003193\n",
      "168  168  0.001129  0.004227\n",
      "169  169  0.004680  0.005205\n",
      "\n",
      "[170 rows x 3 columns]\n"
     ]
    }
   ],
   "source": [
    "# Contribution aux axes\n",
    "ctr = coord**2\n",
    "for j in range(p):\n",
    "  ctr[:,j] = ctr[:,j]/(n*eigval[j]) # eigval = c. 40 (variance expliquée et corrigé)\n",
    "\n",
    "contribution = pd.DataFrame({'id':data_acp.index,'CTR_F1':ctr[:,0],'CTR_F2':ctr[:,1]})\n",
    "print(contribution)"
   ]
  },
  {
   "cell_type": "code",
   "execution_count": 25,
   "metadata": {},
   "outputs": [
    {
     "name": "stdout",
     "output_type": "stream",
     "text": [
      "      id    CTR_F1    CTR_F2\n",
      "122  122  0.023758  0.012372\n",
      "49    49  0.019620  0.007487\n",
      "29    29  0.018089  0.000038\n",
      "112  112  0.017950  0.016259\n",
      "158  158  0.015836  0.002423\n",
      "101  101  0.015483  0.001385\n",
      "147  147  0.015085  0.001778\n",
      "121  121  0.014871  0.000033\n",
      "146  146  0.014783  0.000500\n",
      "7      7  0.014226  0.004831\n"
     ]
    }
   ],
   "source": [
    "print(contribution.sort_values('CTR_F1', ascending=False).head(10))"
   ]
  },
  {
   "cell_type": "code",
   "execution_count": 26,
   "metadata": {},
   "outputs": [
    {
     "name": "stdout",
     "output_type": "stream",
     "text": [
      "      id    CTR_F1    CTR_F2\n",
      "5      5  0.003155  0.039736\n",
      "166  166  0.013811  0.037927\n",
      "34    34  0.000073  0.033302\n",
      "156  156  0.000211  0.032264\n",
      "70    70  0.002197  0.031516\n",
      "151  151  0.003251  0.026922\n",
      "21    21  0.000002  0.025151\n",
      "23    23  0.000088  0.023682\n",
      "131  131  0.006470  0.019298\n",
      "153  153  0.006999  0.019276\n"
     ]
    }
   ],
   "source": [
    "print(contribution.sort_values('CTR_F2', ascending=False).head(10))"
   ]
  },
  {
   "cell_type": "code",
   "execution_count": 27,
   "metadata": {},
   "outputs": [
    {
     "name": "stdout",
     "output_type": "stream",
     "text": [
      "[1. 1. 1. 1. 1. 1.]\n"
     ]
    }
   ],
   "source": [
    "# Vérifions la théorie\n",
    "print(np.sum(ctr,axis=0))"
   ]
  },
  {
   "cell_type": "code",
   "execution_count": 28,
   "metadata": {},
   "outputs": [
    {
     "name": "stdout",
     "output_type": "stream",
     "text": [
      "[[ 0.07327499  0.47550205  0.4918214   0.43102671  0.35253984 -0.46537288]\n",
      " [ 0.77963908  0.33925019  0.23554253 -0.32053699 -0.14111974  0.31453645]\n",
      " [-0.08889419  0.12276016  0.15383022  0.5128076  -0.82114881  0.12691346]\n",
      " [-0.55973158  0.2780463   0.45893794 -0.22652773  0.13533955  0.57370304]\n",
      " [-0.22509444  0.71592059 -0.48699285 -0.31190784 -0.1939426  -0.25441684]\n",
      " [ 0.12216606  0.23213146 -0.4808135   0.54763041  0.35437971  0.52395111]]\n"
     ]
    }
   ],
   "source": [
    "# Le champs components_ de l'objet ACP\n",
    "print(acp.components_)"
   ]
  },
  {
   "cell_type": "code",
   "execution_count": 29,
   "metadata": {},
   "outputs": [
    {
     "name": "stdout",
     "output_type": "stream",
     "text": [
      "[[ 0.1236346   0.89486346 -0.08215244 -0.40034612 -0.11841965  0.05370861]\n",
      " [ 0.80229967  0.38938864  0.11345001  0.19887167  0.37663775  0.10205336]\n",
      " [ 0.8298348   0.27035382  0.14216371  0.32825381 -0.25620145 -0.21138296]\n",
      " [ 0.72725782 -0.36790977  0.4739162  -0.16202319 -0.1640912   0.24075808]\n",
      " [ 0.59482939 -0.1619761  -0.75887278  0.09680115 -0.10203101  0.15579811]\n",
      " [-0.78520903  0.36102241  0.11728832  0.41033916 -0.13384583  0.23034781]]\n"
     ]
    }
   ],
   "source": [
    "# Racine carrée des valeurs propres\n",
    "sqrt_eigval = np.sqrt(eigval)\n",
    "\n",
    "# Corrélation des variables avec les axes\n",
    "corvar = np.zeros((p,p))\n",
    "for k in range(p):\n",
    "  corvar[:,k] = acp.components_[k,:] * sqrt_eigval[k]\n",
    "\n",
    "# Afficher la matrice des corrélations variables x facteurs    \n",
    "print(corvar)"
   ]
  },
  {
   "cell_type": "code",
   "execution_count": 30,
   "metadata": {},
   "outputs": [
    {
     "name": "stdout",
     "output_type": "stream",
     "text": [
      "             id     COR_1     COR_2\n",
      "0      diagonal  0.123635  0.894863\n",
      "1   height_left  0.802300  0.389389\n",
      "2  height_right  0.829835  0.270354\n",
      "3    margin_low  0.727258 -0.367910\n",
      "4     margin_up  0.594829 -0.161976\n",
      "5        length -0.785209  0.361022\n"
     ]
    }
   ],
   "source": [
    "# On affiche pour les deux premiers axes\n",
    "print(pd.DataFrame({'id':data_acp.columns,'COR_1':corvar[:,0],'COR_2':corvar[:,1]}))"
   ]
  },
  {
   "cell_type": "code",
   "execution_count": 31,
   "metadata": {},
   "outputs": [
    {
     "data": {
      "text/plain": [
       "Index(['diagonal', 'height_left', 'height_right', 'margin_low', 'margin_up',\n",
       "       'length'],\n",
       "      dtype='object')"
      ]
     },
     "execution_count": 31,
     "metadata": {},
     "output_type": "execute_result"
    }
   ],
   "source": [
    "data_acp.columns"
   ]
  },
  {
   "cell_type": "code",
   "execution_count": 32,
   "metadata": {},
   "outputs": [
    {
     "data": {
      "image/png": "[encoded data removed]",
      "text/plain": [
       "<Figure size 720x720 with 1 Axes>"
      ]
     },
     "metadata": {},
     "output_type": "display_data"
    }
   ],
   "source": [
    "# Cercle des corrélations\n",
    "pcs = acp.components_\n",
    "features = data_acp.columns\n",
    "display_circles(pcs, p, acp, [(0,1)], labels = np.array(features))"
   ]
  },
  {
   "cell_type": "markdown",
   "metadata": {},
   "source": [
    "Sur F1, nous voyons les variables liées aux hauteurs et aux marges.  \n",
    "La variable \"length\" est corrélée à F2."
   ]
  },
  {
   "cell_type": "code",
   "execution_count": 33,
   "metadata": {},
   "outputs": [
    {
     "data": {
      "image/png": "[encoded data removed]",
      "text/plain": [
       "<Figure size 720x720 with 1 Axes>"
      ]
     },
     "metadata": {},
     "output_type": "display_data"
    }
   ],
   "source": [
    "# Projection des individus\n",
    "\n",
    "display_factorial_planes(coord, p, acp, [(0,1)], illustrative_var=data['is_genuine'])"
   ]
  },
  {
   "cell_type": "markdown",
   "metadata": {},
   "source": [
    "Contient 69,4% de l’information : on observe très distinctement les deux groupes"
   ]
  },
  {
   "cell_type": "code",
   "execution_count": 34,
   "metadata": {},
   "outputs": [
    {
     "name": "stdout",
     "output_type": "stream",
     "text": [
      "             id    COS2_1    COS2_2\n",
      "0      diagonal  0.015286  0.800781\n",
      "1   height_left  0.643685  0.151624\n",
      "2  height_right  0.688626  0.073091\n",
      "3    margin_low  0.528904  0.135358\n",
      "4     margin_up  0.353822  0.026236\n",
      "5        length  0.616553  0.130337\n"
     ]
    }
   ],
   "source": [
    "# Cosinus carré des variables\n",
    "cos2var = corvar**2\n",
    "print(pd.DataFrame({'id':data_acp.columns,'COS2_1':cos2var[:,0],'COS2_2':cos2var[:,1]}))"
   ]
  },
  {
   "cell_type": "code",
   "execution_count": 35,
   "metadata": {},
   "outputs": [
    {
     "name": "stdout",
     "output_type": "stream",
     "text": [
      "             id     CTR_1     CTR_2\n",
      "0      diagonal  0.005369  0.607837\n",
      "1   height_left  0.226102  0.115091\n",
      "2  height_right  0.241888  0.055480\n",
      "3    margin_low  0.185784  0.102744\n",
      "4     margin_up  0.124284  0.019915\n",
      "5        length  0.216572  0.098933\n"
     ]
    }
   ],
   "source": [
    "# Contributions\n",
    "ctrvar = cos2var\n",
    "for k in range(p):\n",
    "  ctrvar[:,k] = ctrvar[:,k]/eigval[k]\n",
    "\n",
    "# On n'affiche que pour les deux premiers axes\n",
    "print(pd.DataFrame({'id':data_acp.columns,'CTR_1':ctrvar[:,0],'CTR_2':ctrvar[:,1]}))"
   ]
  },
  {
   "cell_type": "markdown",
   "metadata": {},
   "source": [
    "### IV. Classification : k-means"
   ]
  },
  {
   "cell_type": "markdown",
   "metadata": {},
   "source": [
    "Nous allons séparer notre échantillon en 2 groupes : variances égales et intertie minime."
   ]
  },
  {
   "cell_type": "code",
   "execution_count": 36,
   "metadata": {},
   "outputs": [],
   "source": [
    "from sklearn.cluster import KMeans \n",
    "from sklearn import decomposition\n",
    "from sklearn import preprocessing\n",
    "from sklearn import linear_model\n",
    "import seaborn as sns\n",
    "from sklearn.model_selection import train_test_split\n",
    "from sklearn.metrics import confusion_matrix\n",
    "import statsmodels.api as sm\n",
    "from scipy.cluster.hierarchy import dendrogram, linkage, fcluster\n",
    "\n",
    "X = data.values\n",
    "\n",
    "km = KMeans(n_clusters=2)\n",
    "km.fit(X)\n",
    "clustersk = km.labels_\n",
    "\n",
    "data_clusterk = pd.DataFrame({'clusters_kmeans' : clustersk})\n",
    "data = data.join(data_clusterk)\n",
    "illustrative_var = data['clusters_kmeans']"
   ]
  },
  {
   "cell_type": "code",
   "execution_count": 37,
   "metadata": {},
   "outputs": [
    {
     "name": "stdout",
     "output_type": "stream",
     "text": [
      "clusters_kmeans              0           1\n",
      "diagonal     count   69.000000  101.000000\n",
      "             mean   171.890725  171.974653\n",
      "             std      0.299516    0.306782\n",
      "             min    171.380000  171.040000\n",
      "             25%    171.680000  171.790000\n",
      "             50%    171.890000  172.000000\n",
      "             75%    172.050000  172.160000\n",
      "             max    173.010000  172.750000\n",
      "height_left  count   69.000000  101.000000\n",
      "             mean   104.228116  103.955842\n",
      "             std      0.213805    0.297977\n",
      "             min    103.780000  103.230000\n",
      "             25%    104.070000  103.740000\n",
      "             50%    104.210000  103.920000\n",
      "             75%    104.370000  104.160000\n",
      "             max    104.720000  104.860000\n",
      "height_right count   69.000000  101.000000\n",
      "             mean   104.145217  103.779802\n",
      "             std      0.254989    0.293571\n",
      "             min    103.440000  103.140000\n",
      "             25%    103.980000  103.560000\n",
      "             50%    104.170000  103.760000\n",
      "             75%    104.280000  103.980000\n",
      "             max    104.860000  104.950000\n",
      "margin_low   count   69.000000  101.000000\n",
      "             mean     5.278261    4.157030\n",
      "             std      0.544094    0.341197\n",
      "             min      3.820000    3.540000\n",
      "             25%      4.950000    3.900000\n",
      "             50%      5.260000    4.080000\n",
      "             75%      5.710000    4.390000\n",
      "             max      6.280000    5.510000\n",
      "margin_up    count   69.000000  101.000000\n",
      "             mean     3.334638    3.058218\n",
      "             std      0.186458    0.198622\n",
      "             min      2.980000    2.270000\n",
      "             25%      3.180000    2.940000\n",
      "             50%      3.340000    3.070000\n",
      "             75%      3.450000    3.200000\n",
      "             max      3.680000    3.530000\n",
      "length       count   69.000000  101.000000\n",
      "             mean   111.632029  113.211485\n",
      "             std      0.637596    0.381010\n",
      "             min    109.970000  111.760000\n",
      "             25%    111.270000  113.000000\n",
      "             50%    111.760000  113.210000\n",
      "             75%    111.940000  113.520000\n",
      "             max    113.170000  113.980000\n"
     ]
    }
   ],
   "source": [
    "description = data.groupby('clusters_kmeans').describe().transpose()\n",
    "print(description)"
   ]
  },
  {
   "cell_type": "code",
   "execution_count": 38,
   "metadata": {},
   "outputs": [
    {
     "name": "stdout",
     "output_type": "stream",
     "text": [
      "is_genuine                  False        True\n",
      "diagonal        count   70.000000  100.000000\n",
      "                mean   171.889857  171.976100\n",
      "                std      0.297426    0.307981\n",
      "                min    171.380000  171.040000\n",
      "                25%    171.682500  171.790000\n",
      "                50%    171.875000  172.005000\n",
      "                75%    172.047500  172.162500\n",
      "                max    173.010000  172.750000\n",
      "height_left     count   70.000000  100.000000\n",
      "                mean   104.230429  103.951500\n",
      "                std      0.213130    0.296251\n",
      "                min    103.780000  103.230000\n",
      "                25%    104.082500  103.740000\n",
      "                50%    104.215000  103.915000\n",
      "                75%    104.377500  104.145000\n",
      "                max    104.720000  104.860000\n",
      "height_right    count   70.000000  100.000000\n",
      "                mean   104.145571  103.775900\n",
      "                std      0.253152    0.292406\n",
      "                min    103.440000  103.140000\n",
      "                25%    103.982500  103.557500\n",
      "                50%    104.170000  103.760000\n",
      "                75%    104.280000  103.972500\n",
      "                max    104.860000  104.950000\n",
      "margin_low      count   70.000000  100.000000\n",
      "                mean     5.281571    4.143500\n",
      "                std      0.540846    0.314509\n",
      "                min      3.820000    3.540000\n",
      "                25%      4.952500    3.900000\n",
      "                50%      5.265000    4.080000\n",
      "                75%      5.702500    4.382500\n",
      "                max      6.280000    5.040000\n",
      "margin_up       count   70.000000  100.000000\n",
      "                mean     3.334571    3.055500\n",
      "                std      0.185102    0.197726\n",
      "                min      2.980000    2.270000\n",
      "                25%      3.185000    2.937500\n",
      "                50%      3.335000    3.070000\n",
      "                75%      3.450000    3.192500\n",
      "                max      3.680000    3.530000\n",
      "length          count   70.000000  100.000000\n",
      "                mean   111.660714  113.207200\n",
      "                std      0.676931    0.380476\n",
      "                min    109.970000  111.760000\n",
      "                25%    111.270000  112.995000\n",
      "                50%    111.765000  113.210000\n",
      "                75%    111.985000  113.505000\n",
      "                max    113.640000  113.980000\n",
      "clusters_kmeans count   70.000000  100.000000\n",
      "                mean     0.014286    1.000000\n",
      "                std      0.119523    0.000000\n",
      "                min      0.000000    1.000000\n",
      "                25%      0.000000    1.000000\n",
      "                50%      0.000000    1.000000\n",
      "                75%      0.000000    1.000000\n",
      "                max      1.000000    1.000000\n"
     ]
    }
   ],
   "source": [
    "description2 = data.groupby('is_genuine').describe().transpose()\n",
    "print(description2)"
   ]
  },
  {
   "cell_type": "code",
   "execution_count": 39,
   "metadata": {},
   "outputs": [
    {
     "data": {
      "text/html": [
       "<div>\n",
       "<style scoped>\n",
       "    .dataframe tbody tr th:only-of-type {\n",
       "        vertical-align: middle;\n",
       "    }\n",
       "\n",
       "    .dataframe tbody tr th {\n",
       "        vertical-align: top;\n",
       "    }\n",
       "\n",
       "    .dataframe thead th {\n",
       "        text-align: right;\n",
       "    }\n",
       "</style>\n",
       "<table border=\"1\" class=\"dataframe\">\n",
       "  <thead>\n",
       "    <tr style=\"text-align: right;\">\n",
       "      <th></th>\n",
       "      <th>diagonal</th>\n",
       "      <th>height_left</th>\n",
       "      <th>height_right</th>\n",
       "      <th>margin_low</th>\n",
       "      <th>margin_up</th>\n",
       "      <th>length</th>\n",
       "    </tr>\n",
       "    <tr>\n",
       "      <th>clusters_kmeans</th>\n",
       "      <th></th>\n",
       "      <th></th>\n",
       "      <th></th>\n",
       "      <th></th>\n",
       "      <th></th>\n",
       "      <th></th>\n",
       "    </tr>\n",
       "  </thead>\n",
       "  <tbody>\n",
       "    <tr>\n",
       "      <th>0</th>\n",
       "      <td>171.890725</td>\n",
       "      <td>104.228116</td>\n",
       "      <td>104.145217</td>\n",
       "      <td>5.278261</td>\n",
       "      <td>3.334638</td>\n",
       "      <td>111.632029</td>\n",
       "    </tr>\n",
       "    <tr>\n",
       "      <th>1</th>\n",
       "      <td>171.974653</td>\n",
       "      <td>103.955842</td>\n",
       "      <td>103.779802</td>\n",
       "      <td>4.157030</td>\n",
       "      <td>3.058218</td>\n",
       "      <td>113.211485</td>\n",
       "    </tr>\n",
       "  </tbody>\n",
       "</table>\n",
       "</div>"
      ],
      "text/plain": [
       "                   diagonal  height_left  height_right  margin_low  margin_up  \\\n",
       "clusters_kmeans                                                                 \n",
       "0                171.890725   104.228116    104.145217    5.278261   3.334638   \n",
       "1                171.974653   103.955842    103.779802    4.157030   3.058218   \n",
       "\n",
       "                     length  \n",
       "clusters_kmeans              \n",
       "0                111.632029  \n",
       "1                113.211485  "
      ]
     },
     "execution_count": 39,
     "metadata": {},
     "output_type": "execute_result"
    }
   ],
   "source": [
    "# Moyennes des dimensions pour les 2 clusters\n",
    "data.groupby('clusters_kmeans').mean().drop(\"is_genuine\",axis=1)"
   ]
  },
  {
   "cell_type": "code",
   "execution_count": 40,
   "metadata": {},
   "outputs": [
    {
     "data": {
      "text/html": [
       "<div>\n",
       "<style scoped>\n",
       "    .dataframe tbody tr th:only-of-type {\n",
       "        vertical-align: middle;\n",
       "    }\n",
       "\n",
       "    .dataframe tbody tr th {\n",
       "        vertical-align: top;\n",
       "    }\n",
       "\n",
       "    .dataframe thead th {\n",
       "        text-align: right;\n",
       "    }\n",
       "</style>\n",
       "<table border=\"1\" class=\"dataframe\">\n",
       "  <thead>\n",
       "    <tr style=\"text-align: right;\">\n",
       "      <th></th>\n",
       "      <th>diagonal</th>\n",
       "      <th>height_left</th>\n",
       "      <th>height_right</th>\n",
       "      <th>margin_low</th>\n",
       "      <th>margin_up</th>\n",
       "      <th>length</th>\n",
       "    </tr>\n",
       "    <tr>\n",
       "      <th>is_genuine</th>\n",
       "      <th></th>\n",
       "      <th></th>\n",
       "      <th></th>\n",
       "      <th></th>\n",
       "      <th></th>\n",
       "      <th></th>\n",
       "    </tr>\n",
       "  </thead>\n",
       "  <tbody>\n",
       "    <tr>\n",
       "      <th>False</th>\n",
       "      <td>171.889857</td>\n",
       "      <td>104.230429</td>\n",
       "      <td>104.145571</td>\n",
       "      <td>5.281571</td>\n",
       "      <td>3.334571</td>\n",
       "      <td>111.660714</td>\n",
       "    </tr>\n",
       "    <tr>\n",
       "      <th>True</th>\n",
       "      <td>171.976100</td>\n",
       "      <td>103.951500</td>\n",
       "      <td>103.775900</td>\n",
       "      <td>4.143500</td>\n",
       "      <td>3.055500</td>\n",
       "      <td>113.207200</td>\n",
       "    </tr>\n",
       "  </tbody>\n",
       "</table>\n",
       "</div>"
      ],
      "text/plain": [
       "              diagonal  height_left  height_right  margin_low  margin_up  \\\n",
       "is_genuine                                                                 \n",
       "False       171.889857   104.230429    104.145571    5.281571   3.334571   \n",
       "True        171.976100   103.951500    103.775900    4.143500   3.055500   \n",
       "\n",
       "                length  \n",
       "is_genuine              \n",
       "False       111.660714  \n",
       "True        113.207200  "
      ]
     },
     "execution_count": 40,
     "metadata": {},
     "output_type": "execute_result"
    }
   ],
   "source": [
    "# Moyennes des dimensions pour les 2 clusters (k-means)\n",
    "data.groupby('is_genuine').mean().drop(\"clusters_kmeans\",axis=1)"
   ]
  },
  {
   "cell_type": "markdown",
   "metadata": {},
   "source": [
    "Cette comparaison permet de voir que le clustering a bien fonctionné : la fonction a crée deux groupes qui sont très proches des groupes vrais et faux. On réalise maintenant une matrice de confusion afin de vérifier la qualité de notre classification."
   ]
  },
  {
   "cell_type": "code",
   "execution_count": 41,
   "metadata": {},
   "outputs": [
    {
     "data": {
      "text/html": [
       "<div>\n",
       "<style scoped>\n",
       "    .dataframe tbody tr th:only-of-type {\n",
       "        vertical-align: middle;\n",
       "    }\n",
       "\n",
       "    .dataframe tbody tr th {\n",
       "        vertical-align: top;\n",
       "    }\n",
       "\n",
       "    .dataframe thead th {\n",
       "        text-align: right;\n",
       "    }\n",
       "</style>\n",
       "<table border=\"1\" class=\"dataframe\">\n",
       "  <thead>\n",
       "    <tr style=\"text-align: right;\">\n",
       "      <th>clusters_kmeans</th>\n",
       "      <th>0</th>\n",
       "      <th>1</th>\n",
       "    </tr>\n",
       "    <tr>\n",
       "      <th>is_genuine</th>\n",
       "      <th></th>\n",
       "      <th></th>\n",
       "    </tr>\n",
       "  </thead>\n",
       "  <tbody>\n",
       "    <tr>\n",
       "      <th>False</th>\n",
       "      <td>69</td>\n",
       "      <td>1</td>\n",
       "    </tr>\n",
       "    <tr>\n",
       "      <th>True</th>\n",
       "      <td>0</td>\n",
       "      <td>100</td>\n",
       "    </tr>\n",
       "  </tbody>\n",
       "</table>\n",
       "</div>"
      ],
      "text/plain": [
       "clusters_kmeans   0    1\n",
       "is_genuine              \n",
       "False            69    1\n",
       "True              0  100"
      ]
     },
     "execution_count": 41,
     "metadata": {},
     "output_type": "execute_result"
    }
   ],
   "source": [
    "# Matrice de confusion\n",
    "df_confusion = pd.crosstab(data.is_genuine,data.clusters_kmeans)\n",
    "df_confusion"
   ]
  },
  {
   "cell_type": "code",
   "execution_count": 42,
   "metadata": {},
   "outputs": [
    {
     "data": {
      "image/png": "[encoded data removed]",
      "text/plain": [
       "<Figure size 432x288 with 2 Axes>"
      ]
     },
     "metadata": {},
     "output_type": "display_data"
    }
   ],
   "source": [
    "# Représentation graphique de la matrice de confusion : heat map\n",
    "sns.heatmap(df_confusion, annot=True)\n",
    "\n",
    "plt.title(\"Matrice de confusion\", size=15)\n",
    "plt.savefig('/Users/anissa/P5_01_matrice_confusion.jpg', dpi=1200)\n",
    "plt.show()"
   ]
  },
  {
   "cell_type": "markdown",
   "metadata": {},
   "source": [
    "69 vrais négatifs et 100 vrais positifs ainsi qu'1 faux négatif (négatif à tord).  \n",
    "Pour comparaison, en regardant la variable \"is_genuine\" de notre échantillon, il y a 100 vrais billets et 70 faux billets."
   ]
  },
  {
   "cell_type": "code",
   "execution_count": 43,
   "metadata": {},
   "outputs": [
    {
     "data": {
      "image/png": "[encoded data removed]",
      "text/plain": [
       "<Figure size 720x720 with 1 Axes>"
      ]
     },
     "metadata": {},
     "output_type": "display_data"
    }
   ],
   "source": [
    "# Projection des individus\n",
    "display_factorial_planes(coord, p, acp, [(0,1)],\n",
    "                         illustrative_var=data.clusters_kmeans)"
   ]
  },
  {
   "cell_type": "markdown",
   "metadata": {},
   "source": [
    "### V. Modélisation"
   ]
  },
  {
   "cell_type": "markdown",
   "metadata": {},
   "source": [
    "_sources :_ \n",
    "* https://www.youtube.com/watch?v=xYDgnjtVFgU\n",
    "* http://eric.univ-lyon2.fr/~ricco/tanagra/fichiers/fr_Tanagra_Python_Regression_Logistique.pdf\n",
    "* https://towardsdatascience.com/evaluating-machine-learning-classification-problems-in-python-5-1-metrics-that-matter-792c6faddf5"
   ]
  },
  {
   "cell_type": "code",
   "execution_count": 44,
   "metadata": {},
   "outputs": [],
   "source": [
    "from sklearn.linear_model import LogisticRegression\n",
    "from sklearn.model_selection import train_test_split, cross_validate, cross_val_score\n",
    "from sklearn.metrics import confusion_matrix, classification_report"
   ]
  },
  {
   "cell_type": "code",
   "execution_count": 45,
   "metadata": {},
   "outputs": [],
   "source": [
    "# Variables explicatives\n",
    "X = data[['length', 'height_left', 'height_right', 'margin_low', 'margin_up', 'diagonal']]\n",
    "\n",
    "# Variable à expliquer\n",
    "y = data.is_genuine"
   ]
  },
  {
   "cell_type": "code",
   "execution_count": 46,
   "metadata": {},
   "outputs": [],
   "source": [
    "# Partition aléatoire du jeu de données en 80% pour créer le modèle, 20% pour tester le modèle\n",
    "X_train, X_test, y_train, y_test = train_test_split(X, y, test_size=0.20)"
   ]
  },
  {
   "cell_type": "code",
   "execution_count": 47,
   "metadata": {},
   "outputs": [
    {
     "data": {
      "text/plain": [
       "LogisticRegression()"
      ]
     },
     "execution_count": 47,
     "metadata": {},
     "output_type": "execute_result"
    }
   ],
   "source": [
    "# Régression logistique\n",
    "model = LogisticRegression()\n",
    "model.fit(X_train, y_train)"
   ]
  },
  {
   "cell_type": "code",
   "execution_count": 48,
   "metadata": {},
   "outputs": [
    {
     "name": "stdout",
     "output_type": "stream",
     "text": [
      "[ True  True  True False False  True False False False False  True  True\n",
      " False False False False  True  True  True  True  True  True  True  True\n",
      " False  True  True False  True False  True  True False False]\n",
      "28      True\n",
      "85      True\n",
      "42      True\n",
      "114    False\n",
      "163    False\n",
      "20      True\n",
      "124    False\n",
      "112    False\n",
      "133    False\n",
      "119    False\n",
      "0       True\n",
      "21      True\n",
      "155    False\n",
      "148    False\n",
      "160    False\n",
      "108    False\n",
      "90      True\n",
      "43      True\n",
      "14      True\n",
      "89      True\n",
      "86      True\n",
      "87      True\n",
      "65      True\n",
      "27      True\n",
      "137    False\n",
      "32      True\n",
      "46      True\n",
      "128    False\n",
      "59      True\n",
      "165    False\n",
      "52      True\n",
      "81      True\n",
      "100    False\n",
      "150    False\n",
      "Name: is_genuine, dtype: bool\n"
     ]
    }
   ],
   "source": [
    "# Stockage de prédictions\n",
    "predictions = model.predict(X_test)\n",
    "print(predictions)\n",
    "print(y_test)"
   ]
  },
  {
   "cell_type": "code",
   "execution_count": 49,
   "metadata": {},
   "outputs": [
    {
     "name": "stdout",
     "output_type": "stream",
     "text": [
      "              precision    recall  f1-score   support\n",
      "\n",
      "       False       1.00      1.00      1.00        15\n",
      "        True       1.00      1.00      1.00        19\n",
      "\n",
      "    accuracy                           1.00        34\n",
      "   macro avg       1.00      1.00      1.00        34\n",
      "weighted avg       1.00      1.00      1.00        34\n",
      "\n",
      "1.0\n"
     ]
    }
   ],
   "source": [
    "# Evaluation du modèle\n",
    "print(classification_report(y_test, predictions))\n",
    "print(accuracy_score(y_test,predictions))"
   ]
  },
  {
   "cell_type": "code",
   "execution_count": 50,
   "metadata": {},
   "outputs": [
    {
     "data": {
      "text/html": [
       "<div>\n",
       "<style scoped>\n",
       "    .dataframe tbody tr th:only-of-type {\n",
       "        vertical-align: middle;\n",
       "    }\n",
       "\n",
       "    .dataframe tbody tr th {\n",
       "        vertical-align: top;\n",
       "    }\n",
       "\n",
       "    .dataframe thead th {\n",
       "        text-align: right;\n",
       "    }\n",
       "</style>\n",
       "<table border=\"1\" class=\"dataframe\">\n",
       "  <thead>\n",
       "    <tr style=\"text-align: right;\">\n",
       "      <th></th>\n",
       "      <th>Predicted Negative</th>\n",
       "      <th>Predicted Positive</th>\n",
       "    </tr>\n",
       "  </thead>\n",
       "  <tbody>\n",
       "    <tr>\n",
       "      <th>Actual Negative</th>\n",
       "      <td>15</td>\n",
       "      <td>0</td>\n",
       "    </tr>\n",
       "    <tr>\n",
       "      <th>Actual Positive</th>\n",
       "      <td>0</td>\n",
       "      <td>19</td>\n",
       "    </tr>\n",
       "  </tbody>\n",
       "</table>\n",
       "</div>"
      ],
      "text/plain": [
       "                 Predicted Negative  Predicted Positive\n",
       "Actual Negative                  15                   0\n",
       "Actual Positive                   0                  19"
      ]
     },
     "execution_count": 50,
     "metadata": {},
     "output_type": "execute_result"
    }
   ],
   "source": [
    "# Matrice de confusion\n",
    "cm = confusion_matrix(y_test, predictions)\n",
    "\n",
    "# Assignation du nom des colonnes\n",
    "cm_df = pd.DataFrame(cm, \n",
    "            columns = ['Predicted Negative', 'Predicted Positive'],\n",
    "            index = ['Actual Negative', 'Actual Positive'])\n",
    "cm_df"
   ]
  },
  {
   "cell_type": "markdown",
   "metadata": {},
   "source": [
    "## VI. Calculs manuels des indicateurs"
   ]
  },
  {
   "cell_type": "code",
   "execution_count": 51,
   "metadata": {},
   "outputs": [],
   "source": [
    "# Vrai positif (true positive)\n",
    "TP = cm_df.iloc[1,1]\n",
    "\n",
    "# Vrai négatif (true negative)\n",
    "TN = cm_df.iloc[0,0]\n",
    "\n",
    "# Faux négatif (false negative)\n",
    "FN = cm_df.iloc[0,1]\n",
    "\n",
    "# Faux positif (false positive)\n",
    "FP = cm_df.iloc[1,0]"
   ]
  },
  {
   "cell_type": "code",
   "execution_count": 52,
   "metadata": {},
   "outputs": [
    {
     "name": "stdout",
     "output_type": "stream",
     "text": [
      "sensivity = 1.0\n",
      "specificity = 1.0\n"
     ]
    }
   ],
   "source": [
    "# Calcul de la sensibilité (taux de vrais positifs)\n",
    "conf_sensitivity = (TP / float(TP + FN))\n",
    "\n",
    "# Calcul de la spécificité (taux de vrais négatifs)\n",
    "conf_specificity = (TN / float(TN + FP))\n",
    "\n",
    "print(\"sensivity =\",conf_sensitivity)\n",
    "print(\"specificity =\",conf_specificity)"
   ]
  },
  {
   "cell_type": "code",
   "execution_count": 53,
   "metadata": {},
   "outputs": [
    {
     "data": {
      "text/plain": [
       "1.0"
      ]
     },
     "execution_count": 53,
     "metadata": {},
     "output_type": "execute_result"
    }
   ],
   "source": [
    "# Calcul de la précision (accuracy score)\n",
    "conf_accuracy = (float (TP+TN) / float(TP + TN + FP + FN))\n",
    "conf_accuracy"
   ]
  },
  {
   "cell_type": "code",
   "execution_count": 54,
   "metadata": {},
   "outputs": [
    {
     "data": {
      "text/plain": [
       "1.0"
      ]
     },
     "execution_count": 54,
     "metadata": {},
     "output_type": "execute_result"
    }
   ],
   "source": [
    "# Moyenne entre la sensibilité et la spécificité (balanced accuracy)\n",
    "from sklearn.metrics import balanced_accuracy_score\n",
    "balanced_accuracy_score(y_test, predictions, sample_weight=None, adjusted=False)"
   ]
  },
  {
   "cell_type": "markdown",
   "metadata": {},
   "source": [
    "### VII. Test nouvel échantillon"
   ]
  },
  {
   "cell_type": "code",
   "execution_count": 55,
   "metadata": {},
   "outputs": [
    {
     "data": {
      "text/html": [
       "<div>\n",
       "<style scoped>\n",
       "    .dataframe tbody tr th:only-of-type {\n",
       "        vertical-align: middle;\n",
       "    }\n",
       "\n",
       "    .dataframe tbody tr th {\n",
       "        vertical-align: top;\n",
       "    }\n",
       "\n",
       "    .dataframe thead th {\n",
       "        text-align: right;\n",
       "    }\n",
       "</style>\n",
       "<table border=\"1\" class=\"dataframe\">\n",
       "  <thead>\n",
       "    <tr style=\"text-align: right;\">\n",
       "      <th></th>\n",
       "      <th>diagonal</th>\n",
       "      <th>height_left</th>\n",
       "      <th>height_right</th>\n",
       "      <th>margin_low</th>\n",
       "      <th>margin_up</th>\n",
       "      <th>length</th>\n",
       "      <th>id</th>\n",
       "    </tr>\n",
       "  </thead>\n",
       "  <tbody>\n",
       "    <tr>\n",
       "      <th>0</th>\n",
       "      <td>171.76</td>\n",
       "      <td>104.01</td>\n",
       "      <td>103.54</td>\n",
       "      <td>5.21</td>\n",
       "      <td>3.30</td>\n",
       "      <td>111.42</td>\n",
       "      <td>A_1</td>\n",
       "    </tr>\n",
       "    <tr>\n",
       "      <th>1</th>\n",
       "      <td>171.87</td>\n",
       "      <td>104.17</td>\n",
       "      <td>104.13</td>\n",
       "      <td>6.00</td>\n",
       "      <td>3.31</td>\n",
       "      <td>112.09</td>\n",
       "      <td>A_2</td>\n",
       "    </tr>\n",
       "    <tr>\n",
       "      <th>2</th>\n",
       "      <td>172.00</td>\n",
       "      <td>104.58</td>\n",
       "      <td>104.29</td>\n",
       "      <td>4.99</td>\n",
       "      <td>3.39</td>\n",
       "      <td>111.57</td>\n",
       "      <td>A_3</td>\n",
       "    </tr>\n",
       "    <tr>\n",
       "      <th>3</th>\n",
       "      <td>172.49</td>\n",
       "      <td>104.55</td>\n",
       "      <td>104.34</td>\n",
       "      <td>4.44</td>\n",
       "      <td>3.03</td>\n",
       "      <td>113.20</td>\n",
       "      <td>A_4</td>\n",
       "    </tr>\n",
       "    <tr>\n",
       "      <th>4</th>\n",
       "      <td>171.65</td>\n",
       "      <td>103.63</td>\n",
       "      <td>103.56</td>\n",
       "      <td>3.77</td>\n",
       "      <td>3.16</td>\n",
       "      <td>113.33</td>\n",
       "      <td>A_5</td>\n",
       "    </tr>\n",
       "  </tbody>\n",
       "</table>\n",
       "</div>"
      ],
      "text/plain": [
       "   diagonal  height_left  height_right  margin_low  margin_up  length   id\n",
       "0    171.76       104.01        103.54        5.21       3.30  111.42  A_1\n",
       "1    171.87       104.17        104.13        6.00       3.31  112.09  A_2\n",
       "2    172.00       104.58        104.29        4.99       3.39  111.57  A_3\n",
       "3    172.49       104.55        104.34        4.44       3.03  113.20  A_4\n",
       "4    171.65       103.63        103.56        3.77       3.16  113.33  A_5"
      ]
     },
     "execution_count": 55,
     "metadata": {},
     "output_type": "execute_result"
    }
   ],
   "source": [
    "new_sample = pd.read_csv('/Users/anissa/P6/example.csv')\n",
    "new_sample.head()"
   ]
  },
  {
   "cell_type": "code",
   "execution_count": 56,
   "metadata": {},
   "outputs": [
    {
     "data": {
      "text/plain": [
       "array([[0.94701983, 0.05298017],\n",
       "       [0.98784444, 0.01215556],\n",
       "       [0.9660883 , 0.0339117 ],\n",
       "       [0.14979544, 0.85020456],\n",
       "       [0.00541888, 0.99458112]])"
      ]
     },
     "execution_count": 56,
     "metadata": {},
     "output_type": "execute_result"
    }
   ],
   "source": [
    "# Préparation des données\n",
    "new_predict = new_sample[['length', 'height_left', 'height_right', 'margin_low', 'margin_up', 'diagonal']]\n",
    "\n",
    "# Application du modèle\n",
    "predict = model.predict(new_predict)\n",
    "\n",
    "# Probabilités\n",
    "model.predict_proba(new_predict)"
   ]
  },
  {
   "cell_type": "code",
   "execution_count": 57,
   "metadata": {},
   "outputs": [
    {
     "data": {
      "text/plain": [
       "array([False,  True])"
      ]
     },
     "execution_count": 57,
     "metadata": {},
     "output_type": "execute_result"
    }
   ],
   "source": [
    "# Ordre de lecture des probabilités\n",
    "model.classes_"
   ]
  },
  {
   "cell_type": "code",
   "execution_count": 58,
   "metadata": {},
   "outputs": [
    {
     "data": {
      "text/html": [
       "<div>\n",
       "<style scoped>\n",
       "    .dataframe tbody tr th:only-of-type {\n",
       "        vertical-align: middle;\n",
       "    }\n",
       "\n",
       "    .dataframe tbody tr th {\n",
       "        vertical-align: top;\n",
       "    }\n",
       "\n",
       "    .dataframe thead th {\n",
       "        text-align: right;\n",
       "    }\n",
       "</style>\n",
       "<table border=\"1\" class=\"dataframe\">\n",
       "  <thead>\n",
       "    <tr style=\"text-align: right;\">\n",
       "      <th></th>\n",
       "      <th>length</th>\n",
       "      <th>height_left</th>\n",
       "      <th>height_right</th>\n",
       "      <th>margin_low</th>\n",
       "      <th>margin_up</th>\n",
       "      <th>diagonal</th>\n",
       "      <th>Probas_faux</th>\n",
       "      <th>Probas_vrais</th>\n",
       "    </tr>\n",
       "  </thead>\n",
       "  <tbody>\n",
       "    <tr>\n",
       "      <th>0</th>\n",
       "      <td>111.42</td>\n",
       "      <td>104.01</td>\n",
       "      <td>103.54</td>\n",
       "      <td>5.21</td>\n",
       "      <td>3.30</td>\n",
       "      <td>171.76</td>\n",
       "      <td>0.947020</td>\n",
       "      <td>0.052980</td>\n",
       "    </tr>\n",
       "    <tr>\n",
       "      <th>1</th>\n",
       "      <td>112.09</td>\n",
       "      <td>104.17</td>\n",
       "      <td>104.13</td>\n",
       "      <td>6.00</td>\n",
       "      <td>3.31</td>\n",
       "      <td>171.87</td>\n",
       "      <td>0.987844</td>\n",
       "      <td>0.012156</td>\n",
       "    </tr>\n",
       "    <tr>\n",
       "      <th>2</th>\n",
       "      <td>111.57</td>\n",
       "      <td>104.58</td>\n",
       "      <td>104.29</td>\n",
       "      <td>4.99</td>\n",
       "      <td>3.39</td>\n",
       "      <td>172.00</td>\n",
       "      <td>0.966088</td>\n",
       "      <td>0.033912</td>\n",
       "    </tr>\n",
       "    <tr>\n",
       "      <th>3</th>\n",
       "      <td>113.20</td>\n",
       "      <td>104.55</td>\n",
       "      <td>104.34</td>\n",
       "      <td>4.44</td>\n",
       "      <td>3.03</td>\n",
       "      <td>172.49</td>\n",
       "      <td>0.149795</td>\n",
       "      <td>0.850205</td>\n",
       "    </tr>\n",
       "    <tr>\n",
       "      <th>4</th>\n",
       "      <td>113.33</td>\n",
       "      <td>103.63</td>\n",
       "      <td>103.56</td>\n",
       "      <td>3.77</td>\n",
       "      <td>3.16</td>\n",
       "      <td>171.65</td>\n",
       "      <td>0.005419</td>\n",
       "      <td>0.994581</td>\n",
       "    </tr>\n",
       "  </tbody>\n",
       "</table>\n",
       "</div>"
      ],
      "text/plain": [
       "   length  height_left  height_right  margin_low  margin_up  diagonal  \\\n",
       "0  111.42       104.01        103.54        5.21       3.30    171.76   \n",
       "1  112.09       104.17        104.13        6.00       3.31    171.87   \n",
       "2  111.57       104.58        104.29        4.99       3.39    172.00   \n",
       "3  113.20       104.55        104.34        4.44       3.03    172.49   \n",
       "4  113.33       103.63        103.56        3.77       3.16    171.65   \n",
       "\n",
       "   Probas_faux  Probas_vrais  \n",
       "0     0.947020      0.052980  \n",
       "1     0.987844      0.012156  \n",
       "2     0.966088      0.033912  \n",
       "3     0.149795      0.850205  \n",
       "4     0.005419      0.994581  "
      ]
     },
     "execution_count": 58,
     "metadata": {},
     "output_type": "execute_result"
    }
   ],
   "source": [
    "# Calcul des probas d'affectaion sur l'ech. à prédire\n",
    "probas_ex = model.predict_proba(new_predict)\n",
    "\n",
    "new_predict['Probas_faux'] = probas_ex[:,0]\n",
    "new_predict['Probas_vrais'] = probas_ex[:,1]\n",
    "new_predict"
   ]
  },
  {
   "cell_type": "code",
   "execution_count": 59,
   "metadata": {},
   "outputs": [
    {
     "data": {
      "text/html": [
       "<div>\n",
       "<style scoped>\n",
       "    .dataframe tbody tr th:only-of-type {\n",
       "        vertical-align: middle;\n",
       "    }\n",
       "\n",
       "    .dataframe tbody tr th {\n",
       "        vertical-align: top;\n",
       "    }\n",
       "\n",
       "    .dataframe thead th {\n",
       "        text-align: right;\n",
       "    }\n",
       "</style>\n",
       "<table border=\"1\" class=\"dataframe\">\n",
       "  <thead>\n",
       "    <tr style=\"text-align: right;\">\n",
       "      <th></th>\n",
       "      <th>id</th>\n",
       "      <th>probalité_true</th>\n",
       "      <th>probalité_false</th>\n",
       "      <th>prédiction</th>\n",
       "    </tr>\n",
       "  </thead>\n",
       "  <tbody>\n",
       "    <tr>\n",
       "      <th>0</th>\n",
       "      <td>A_1</td>\n",
       "      <td>0.052980</td>\n",
       "      <td>0.947020</td>\n",
       "      <td>False</td>\n",
       "    </tr>\n",
       "    <tr>\n",
       "      <th>1</th>\n",
       "      <td>A_2</td>\n",
       "      <td>0.012156</td>\n",
       "      <td>0.987844</td>\n",
       "      <td>False</td>\n",
       "    </tr>\n",
       "    <tr>\n",
       "      <th>2</th>\n",
       "      <td>A_3</td>\n",
       "      <td>0.033912</td>\n",
       "      <td>0.966088</td>\n",
       "      <td>False</td>\n",
       "    </tr>\n",
       "    <tr>\n",
       "      <th>3</th>\n",
       "      <td>A_4</td>\n",
       "      <td>0.850205</td>\n",
       "      <td>0.149795</td>\n",
       "      <td>True</td>\n",
       "    </tr>\n",
       "    <tr>\n",
       "      <th>4</th>\n",
       "      <td>A_5</td>\n",
       "      <td>0.994581</td>\n",
       "      <td>0.005419</td>\n",
       "      <td>True</td>\n",
       "    </tr>\n",
       "  </tbody>\n",
       "</table>\n",
       "</div>"
      ],
      "text/plain": [
       "    id  probalité_true  probalité_false  prédiction\n",
       "0  A_1        0.052980         0.947020       False\n",
       "1  A_2        0.012156         0.987844       False\n",
       "2  A_3        0.033912         0.966088       False\n",
       "3  A_4        0.850205         0.149795        True\n",
       "4  A_5        0.994581         0.005419        True"
      ]
     },
     "execution_count": 59,
     "metadata": {},
     "output_type": "execute_result"
    }
   ],
   "source": [
    "# Ajout du resultat et création du df\n",
    "prediction=pd.DataFrame({'id': new_sample.id,\n",
    "                        'probalité_true' : new_predict.Probas_vrais,\n",
    "                        'probalité_false' : new_predict.Probas_faux,\n",
    "                        'prédiction' : predict})\n",
    "\n",
    "prediction"
   ]
  },
  {
   "cell_type": "markdown",
   "metadata": {},
   "source": [
    "Notre échantillon contient donc 3 faux billets et 2 vrais."
   ]
  }
 ],
 "metadata": {
  "kernelspec": {
   "display_name": "Python 3 (ipykernel)",
   "language": "python",
   "name": "python3"
  },
  "language_info": {
   "codemirror_mode": {
    "name": "ipython",
    "version": 3
   },
   "file_extension": ".py",
   "mimetype": "text/x-python",
   "name": "python",
   "nbconvert_exporter": "python",
   "pygments_lexer": "ipython3",
   "version": "3.8.12"
  }
 },
 "nbformat": 4,
 "nbformat_minor": 4
}
